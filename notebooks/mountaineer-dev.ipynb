{
 "cells": [
  {
   "cell_type": "markdown",
   "id": "innocent-girlfriend",
   "metadata": {},
   "source": [
    "## mountaineer\n",
    "**m**ountain **e**cology and **e**volution **r**evolution\n",
    "##### A program to download, visualize, and compare species occurrence records across mountain ranges."
   ]
  },
  {
   "cell_type": "code",
   "execution_count": null,
   "id": "provincial-president",
   "metadata": {},
   "outputs": [],
   "source": [
    "import mountaineer as mtr"
   ]
  },
  {
   "cell_type": "markdown",
   "id": "applied-sugar",
   "metadata": {},
   "source": [
    "## Load data"
   ]
  },
  {
   "cell_type": "code",
   "execution_count": null,
   "id": "statutory-frontier",
   "metadata": {},
   "outputs": [],
   "source": [
    "large = mtr.data.load('large')\n",
    "large"
   ]
  },
  {
   "cell_type": "code",
   "execution_count": null,
   "id": "behind-practice",
   "metadata": {},
   "outputs": [],
   "source": [
    "large.plot()"
   ]
  },
  {
   "cell_type": "markdown",
   "id": "beneficial-fountain",
   "metadata": {},
   "source": [
    "## Dataset and Region class objects"
   ]
  },
  {
   "cell_type": "code",
   "execution_count": null,
   "id": "quick-disclosure",
   "metadata": {},
   "outputs": [],
   "source": [
    "# create instance of Dataset class, which stores a list of Region class objects for each row in the GeoDataFrame\n",
    "l = mtr.Dataset(large)\n",
    "l.gdf.plot()"
   ]
  },
  {
   "cell_type": "code",
   "execution_count": null,
   "id": "nonprofit-custom",
   "metadata": {},
   "outputs": [],
   "source": [
    "# view Region class by index (Himalaya)\n",
    "print(l.regions[1].name)\n",
    "l.regions[1].polygon\n",
    "#l.regions[1].polygon.area"
   ]
  },
  {
   "cell_type": "code",
   "execution_count": null,
   "id": "handy-childhood",
   "metadata": {},
   "outputs": [],
   "source": [
    "# view Region class by index (West Coast)\n",
    "print(l.regions[12].name)\n",
    "l.regions[12].polygon"
   ]
  },
  {
   "cell_type": "code",
   "execution_count": null,
   "id": "detected-pound",
   "metadata": {},
   "outputs": [],
   "source": [
    "# store Region class as variable\n",
    "west_coast = l.regions[12]\n",
    "west_coast.polygon"
   ]
  },
  {
   "cell_type": "markdown",
   "id": "deadly-communication",
   "metadata": {},
   "source": [
    "# World dataset"
   ]
  },
  {
   "cell_type": "code",
   "execution_count": null,
   "id": "atomic-caribbean",
   "metadata": {},
   "outputs": [],
   "source": [
    "# Mountain polygons for \"entire_world\" (1,048 polygons)\n",
    "world = mtr.data.load('world')\n",
    "world"
   ]
  },
  {
   "cell_type": "code",
   "execution_count": null,
   "id": "invisible-central",
   "metadata": {},
   "outputs": [],
   "source": [
    "# create instance of Dataset class for entire world\n",
    "w = mtr.Dataset(world)\n",
    "w.gdf.plot()\n",
    "len(w.regions)"
   ]
  },
  {
   "cell_type": "code",
   "execution_count": null,
   "id": "historic-compilation",
   "metadata": {},
   "outputs": [],
   "source": [
    "# filter Dataset.regions by country\n",
    "w.filter_country(\"United States of America\")"
   ]
  },
  {
   "cell_type": "code",
   "execution_count": null,
   "id": "handled-generator",
   "metadata": {},
   "outputs": [],
   "source": [
    "# filter Dataset.regions by name\n",
    "w.filter_name(\"Abajo Peak\")"
   ]
  },
  {
   "cell_type": "code",
   "execution_count": null,
   "id": "handy-affect",
   "metadata": {},
   "outputs": [],
   "source": [
    "# select Region instance by index and store as new variable\n",
    "abajo = w.regions[905]\n",
    "print(abajo.name)\n",
    "abajo.polygon"
   ]
  },
  {
   "cell_type": "markdown",
   "id": "aggregate-carter",
   "metadata": {},
   "source": [
    "# Download species occurrences within Region"
   ]
  },
  {
   "cell_type": "code",
   "execution_count": null,
   "id": "classical-century",
   "metadata": {},
   "outputs": [],
   "source": [
    "# use 'pygbif' to get taxonKey info for taxon of interest\n",
    "mtr.taxon_info('Lupinus argenteus')"
   ]
  },
  {
   "cell_type": "code",
   "execution_count": null,
   "id": "demanding-india",
   "metadata": {},
   "outputs": [],
   "source": [
    "# query GBIF for 5 occurrences of 'Lupinus' within the complete polygon of this mountain range\n",
    "abajo.get_occurrences(taxonKey=2963774, limit=5, tol=0)"
   ]
  },
  {
   "cell_type": "code",
   "execution_count": null,
   "id": "manual-healthcare",
   "metadata": {},
   "outputs": [],
   "source": [
    "# query GBIF for all occurrences of 'Lupinus' within the complete polygon of this mountain range\n",
    "a = abajo.get_all_occurrences(taxonKey=2963774, tol=0)\n",
    "abajo.polygon"
   ]
  },
  {
   "cell_type": "code",
   "execution_count": null,
   "id": "forward-alfred",
   "metadata": {},
   "outputs": [],
   "source": [
    "# query GBIF for all occurrences of 'Lupinus' within a simplified polygon of this mountain range (tol=0.05)\n",
    "a = abajo.get_all_occurrences(taxonKey=2963774, tol=0.05)\n",
    "abajo.polygon.simplify(tolerance=0.05)"
   ]
  },
  {
   "cell_type": "code",
   "execution_count": null,
   "id": "stuffed-toolbox",
   "metadata": {},
   "outputs": [],
   "source": [
    "# query GBIF for all occurrences of 'Lupinus' within a simplified polygon of this mountain range (tol=0.5)\n",
    "a = abajo.get_all_occurrences(taxonKey=2963774, tol=0.5)\n",
    "abajo.polygon.simplify(tolerance=0.5)"
   ]
  },
  {
   "cell_type": "code",
   "execution_count": null,
   "id": "sharp-ready",
   "metadata": {},
   "outputs": [],
   "source": [
    "# query GBIF for all occurrences of 'Plantae' within the complete polygon of this mountain range (tol=0)\n",
    "a1 = abajo.get_all_occurrences(taxonKey=6, tol=0)"
   ]
  },
  {
   "cell_type": "code",
   "execution_count": null,
   "id": "metropolitan-cologne",
   "metadata": {},
   "outputs": [],
   "source": [
    "# convert to df and filter\n",
    "df = abajo.convert_json_to_dataframe(a)\n",
    "df"
   ]
  },
  {
   "cell_type": "code",
   "execution_count": null,
   "id": "suffering-morocco",
   "metadata": {},
   "outputs": [],
   "source": [
    "# save DataFrame of occurrence records to csv\n",
    "mtr.save(df, 'abajo_plantae.csv')"
   ]
  },
  {
   "cell_type": "code",
   "execution_count": null,
   "id": "demonstrated-combining",
   "metadata": {},
   "outputs": [],
   "source": [
    "# plot occurrence records within Region\n",
    "abajo.plot_with_mpl(df, region='Abajo Peak')"
   ]
  },
  {
   "cell_type": "markdown",
   "id": "divine-calcium",
   "metadata": {},
   "source": [
    "### explicit use of Region class object (rather than creating list of regions with Dataset instance)"
   ]
  },
  {
   "cell_type": "code",
   "execution_count": null,
   "id": "detailed-undergraduate",
   "metadata": {},
   "outputs": [],
   "source": [
    "w.filter_name('Hengduan Shan')"
   ]
  },
  {
   "cell_type": "code",
   "execution_count": null,
   "id": "north-edwards",
   "metadata": {},
   "outputs": [],
   "source": [
    "hengduan = w.regions[236]"
   ]
  },
  {
   "cell_type": "code",
   "execution_count": null,
   "id": "ignored-nebraska",
   "metadata": {},
   "outputs": [],
   "source": [
    "hengduan = mtr.Region(name=\"Hengduan Shan\", polygon=world.geometry[world.Name == \"Hengduan Shan\"])\n",
    "hengduan"
   ]
  },
  {
   "cell_type": "markdown",
   "id": "potential-julian",
   "metadata": {},
   "source": [
    "# Hengduan example"
   ]
  },
  {
   "cell_type": "code",
   "execution_count": null,
   "id": "level-virus",
   "metadata": {},
   "outputs": [],
   "source": [
    "hengduan = w.regions[236]"
   ]
  },
  {
   "cell_type": "code",
   "execution_count": null,
   "id": "little-triangle",
   "metadata": {},
   "outputs": [],
   "source": [
    "mtr.taxon_info('Pedicularis')"
   ]
  },
  {
   "cell_type": "code",
   "execution_count": null,
   "id": "congressional-boring",
   "metadata": {},
   "outputs": [],
   "source": [
    "h = hengduan.get_all_occurrences(taxonKey=3171670, tol = 0.5)\n",
    "hengduan.polygon"
   ]
  },
  {
   "cell_type": "code",
   "execution_count": null,
   "id": "economic-animation",
   "metadata": {},
   "outputs": [],
   "source": [
    "df = hengduan.convert_json_to_dataframe(h)\n",
    "df"
   ]
  },
  {
   "cell_type": "code",
   "execution_count": null,
   "id": "chinese-davis",
   "metadata": {},
   "outputs": [],
   "source": [
    "mtr.save(df, 'hengduan_pedicularis')"
   ]
  },
  {
   "cell_type": "code",
   "execution_count": null,
   "id": "interior-interaction",
   "metadata": {},
   "outputs": [],
   "source": [
    "hengduan.plot_with_mpl(df, 'Hengduan Shan')"
   ]
  },
  {
   "cell_type": "markdown",
   "id": "nutritional-ethics",
   "metadata": {},
   "source": [
    "# Geographical vector objects\n",
    "## https://eaton-lab.org/hack-the-planet/tutorials/25.1-folium-vectors.html"
   ]
  },
  {
   "cell_type": "code",
   "execution_count": null,
   "id": "appointed-sauce",
   "metadata": {},
   "outputs": [],
   "source": [
    "import folium\n",
    "import geopandas\n",
    "import shapely\n",
    "import pyproj\n",
    "import geojson"
   ]
  },
  {
   "cell_type": "code",
   "execution_count": null,
   "id": "earlier-grace",
   "metadata": {},
   "outputs": [],
   "source": [
    "# create a Point instance\n",
    "shapely.geometry.Point(44.0, -74.5)\n",
    "\n",
    "# create a Polygon instance\n",
    "shapely.geometry.Polygon([\n",
    "    (44.0, -74), (45.0, -75), (45.0, -76), (43.0, -76),\n",
    "])"
   ]
  },
  {
   "cell_type": "code",
   "execution_count": null,
   "id": "empty-suspect",
   "metadata": {},
   "outputs": [],
   "source": [
    "# create two points\n",
    "point1 = shapely.geometry.Point(44.0, -74.5)\n",
    "point2 = shapely.geometry.Point(43.0, -73.5)\n",
    "\n",
    "# get linear distance between points\n",
    "linear_dist = point1.distance(point2)\n",
    "print(f\"linear unit-less distance: {linear_dist:.2f}\")"
   ]
  },
  {
   "cell_type": "code",
   "execution_count": null,
   "id": "compatible-mixer",
   "metadata": {},
   "outputs": [],
   "source": [
    "# get geodetic (great circle) projection object\n",
    "geod = pyproj.Geod(ellps='WGS84')\n",
    "\n",
    "# get results of projecting points to new space\n",
    "angle1, angle2, distance = geod.inv(point1.x, point1.y, point2.x, point2.y)\n",
    "\n",
    "# print results (divide by 1000 to get in units of kms)\n",
    "print(f\"WGS84 distance in Kilometers: {distance / 1000:.2f}\")"
   ]
  },
  {
   "cell_type": "markdown",
   "id": "meaningful-abortion",
   "metadata": {},
   "source": [
    "# Geometry calculations"
   ]
  },
  {
   "cell_type": "code",
   "execution_count": null,
   "id": "armed-grace",
   "metadata": {},
   "outputs": [],
   "source": [
    "import pyproj    \n",
    "import shapely\n",
    "import shapely.ops as ops\n",
    "from shapely.geometry.polygon import Polygon\n",
    "from functools import partial"
   ]
  },
  {
   "cell_type": "code",
   "execution_count": null,
   "id": "authorized-thanks",
   "metadata": {},
   "outputs": [],
   "source": [
    "andes = w.regions[0]"
   ]
  },
  {
   "cell_type": "code",
   "execution_count": null,
   "id": "sharing-burton",
   "metadata": {},
   "outputs": [],
   "source": [
    "print(andes.polygon.area)\n",
    "andes.polygon"
   ]
  },
  {
   "cell_type": "code",
   "execution_count": null,
   "id": "logical-uruguay",
   "metadata": {},
   "outputs": [],
   "source": [
    "geom = andes.polygon\n",
    "geom_area = ops.transform(\n",
    "    partial(\n",
    "        pyproj.transform,\n",
    "        pyproj.Proj(init='EPSG:4326'),\n",
    "        pyproj.Proj(\n",
    "            proj='aea',\n",
    "            lat_1=geom.bounds[1],\n",
    "            lat_2=geom.bounds[3])),\n",
    "    geom)\n",
    "\n",
    "# Print the area in km^2\n",
    "area = round((geom_area.area * .000001), 2)\n",
    "area\n",
    "print(f\"Area of mountain range: {round((geom_area.area * .000001), 2):f} km^2\")"
   ]
  }
 ],
 "metadata": {
  "kernelspec": {
   "display_name": "Python 3",
   "language": "python",
   "name": "python3"
  },
  "language_info": {
   "codemirror_mode": {
    "name": "ipython",
    "version": 3
   },
   "file_extension": ".py",
   "mimetype": "text/x-python",
   "name": "python",
   "nbconvert_exporter": "python",
   "pygments_lexer": "ipython3",
   "version": "3.8.5"
  },
  "varInspector": {
   "cols": {
    "lenName": 16,
    "lenType": 16,
    "lenVar": 40
   },
   "kernels_config": {
    "python": {
     "delete_cmd_postfix": "",
     "delete_cmd_prefix": "del ",
     "library": "var_list.py",
     "varRefreshCmd": "print(var_dic_list())"
    },
    "r": {
     "delete_cmd_postfix": ") ",
     "delete_cmd_prefix": "rm(",
     "library": "var_list.r",
     "varRefreshCmd": "cat(var_dic_list()) "
    }
   },
   "types_to_exclude": [
    "module",
    "function",
    "builtin_function_or_method",
    "instance",
    "_Feature"
   ],
   "window_display": false
  }
 },
 "nbformat": 4,
 "nbformat_minor": 5
}
