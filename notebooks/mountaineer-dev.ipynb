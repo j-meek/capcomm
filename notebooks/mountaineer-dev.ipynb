{
 "cells": [
  {
   "cell_type": "markdown",
   "id": "innocent-girlfriend",
   "metadata": {},
   "source": [
    "## mountaineer\n",
    "**m**ountain **e**cology and **e**volution **r**evolution\n",
    "##### A program to download, visualize, and compare species occurrence records across mountain ranges."
   ]
  },
  {
   "cell_type": "code",
   "execution_count": null,
   "id": "tutorial-fight",
   "metadata": {},
   "outputs": [],
   "source": [
    "import mountaineer\n",
    "import folium"
   ]
  },
  {
   "cell_type": "markdown",
   "id": "applied-sugar",
   "metadata": {},
   "source": [
    "## Load data"
   ]
  },
  {
   "cell_type": "code",
   "execution_count": null,
   "id": "silver-mandate",
   "metadata": {},
   "outputs": [],
   "source": [
    "large = mountaineer.data.load('large')\n",
    "large"
   ]
  },
  {
   "cell_type": "code",
   "execution_count": null,
   "id": "apparent-scroll",
   "metadata": {},
   "outputs": [],
   "source": [
    "large.plot()"
   ]
  },
  {
   "cell_type": "markdown",
   "id": "beneficial-fountain",
   "metadata": {},
   "source": [
    "## Dataset and Region class objects"
   ]
  },
  {
   "cell_type": "code",
   "execution_count": null,
   "id": "grateful-symphony",
   "metadata": {},
   "outputs": [],
   "source": [
    "# create instance of Dataset class, which stores a list of Region class objects for each row in the GeoDataFrame\n",
    "l = mountaineer.Dataset(large)\n",
    "l.gdf.plot()"
   ]
  },
  {
   "cell_type": "code",
   "execution_count": null,
   "id": "animated-andorra",
   "metadata": {},
   "outputs": [],
   "source": [
    "# view Region class by index (Himalaya)\n",
    "print(l.regions[1].name)\n",
    "l.regions[1].polygon"
   ]
  },
  {
   "cell_type": "code",
   "execution_count": null,
   "id": "documented-tourist",
   "metadata": {},
   "outputs": [],
   "source": [
    "# view Region class by index (West Coast)\n",
    "print(l.regions[12].name)\n",
    "l.regions[12].polygon"
   ]
  },
  {
   "cell_type": "code",
   "execution_count": null,
   "id": "revolutionary-majority",
   "metadata": {},
   "outputs": [],
   "source": [
    "west_coast = l.regions[12]\n",
    "west_coast.polygon"
   ]
  },
  {
   "cell_type": "markdown",
   "id": "illegal-reservoir",
   "metadata": {},
   "source": [
    "# World dataset"
   ]
  },
  {
   "cell_type": "code",
   "execution_count": null,
   "id": "stuffed-depression",
   "metadata": {},
   "outputs": [],
   "source": [
    "# Mountain polygons for \"entire_world\" (1,048 polygons)\n",
    "world = mountaineer.data.load('world')\n",
    "world"
   ]
  },
  {
   "cell_type": "code",
   "execution_count": null,
   "id": "living-stuart",
   "metadata": {},
   "outputs": [],
   "source": [
    "# create instance of Dataset class for entire world\n",
    "w = mountaineer.Dataset(world)\n",
    "w.gdf.plot()\n",
    "len(w.regions)"
   ]
  },
  {
   "cell_type": "code",
   "execution_count": null,
   "id": "fossil-harmony",
   "metadata": {},
   "outputs": [],
   "source": [
    "# filter Dataset.regions by country\n",
    "w.filter_country(\"United States of America\")"
   ]
  },
  {
   "cell_type": "code",
   "execution_count": null,
   "id": "wireless-wrong",
   "metadata": {},
   "outputs": [],
   "source": [
    "# filter Dataset.regions by name\n",
    "w.filter_name(\"Abajo Peak\")"
   ]
  },
  {
   "cell_type": "code",
   "execution_count": null,
   "id": "interested-classic",
   "metadata": {},
   "outputs": [],
   "source": [
    "# select Region instance by index and store as new variable\n",
    "abajo = w.regions[905]\n",
    "print(abajo.name)\n",
    "abajo.polygon"
   ]
  },
  {
   "cell_type": "markdown",
   "id": "aggregate-carter",
   "metadata": {},
   "source": [
    "# Download species occurrences within Region"
   ]
  },
  {
   "cell_type": "code",
   "execution_count": null,
   "id": "infinite-district",
   "metadata": {},
   "outputs": [],
   "source": [
    "# use 'pygbif' to get taxonKey info for taxon of interest\n",
    "mountaineer.taxon_info('Lupinus argenteus')"
   ]
  },
  {
   "cell_type": "code",
   "execution_count": null,
   "id": "affected-geometry",
   "metadata": {},
   "outputs": [],
   "source": [
    "# query GBIF for 5 occurrences of 'Lupinus' within the complete polygon of this mountain range\n",
    "abajo.get_occurrences(taxonKey=2963774, limit=5, tol=0)"
   ]
  },
  {
   "cell_type": "code",
   "execution_count": null,
   "id": "sapphire-convert",
   "metadata": {},
   "outputs": [],
   "source": [
    "# query GBIF for all occurrences of 'Lupinus' within the complete polygon of this mountain range\n",
    "a = abajo.get_all_occurrences(taxonKey=2963774, tol=0)\n",
    "abajo.polygon"
   ]
  },
  {
   "cell_type": "code",
   "execution_count": null,
   "id": "positive-average",
   "metadata": {},
   "outputs": [],
   "source": [
    "# query GBIF for all occurrences of 'Lupinus' within a simplified polygon of this mountain range (tol=0.05)\n",
    "a = abajo.get_all_occurrences(taxonKey=2963774, tol=0.05)\n",
    "abajo.polygon.simplify(tolerance=0.05)"
   ]
  },
  {
   "cell_type": "code",
   "execution_count": null,
   "id": "pregnant-newman",
   "metadata": {},
   "outputs": [],
   "source": [
    "# query GBIF for all occurrences of 'Lupinus' within a simplified polygon of this mountain range (tol=0.5)\n",
    "a = abajo.get_all_occurrences(taxonKey=2963774, tol=0.5)\n",
    "abajo.polygon.simplify(tolerance=0.5)"
   ]
  },
  {
   "cell_type": "code",
   "execution_count": null,
   "id": "prerequisite-steel",
   "metadata": {},
   "outputs": [],
   "source": [
    "# query GBIF for all occurrences of 'Plantae' within the complete polygon of this mountain range (tol=0)\n",
    "a1 = abajo.get_all_occurrences(taxonKey=6, tol=0)"
   ]
  },
  {
   "cell_type": "code",
   "execution_count": null,
   "id": "regulated-delhi",
   "metadata": {},
   "outputs": [],
   "source": [
    "# convert to df and filter\n",
    "df = abajo.convert_json_to_dataframe(a)\n",
    "df"
   ]
  },
  {
   "cell_type": "code",
   "execution_count": null,
   "id": "medium-protection",
   "metadata": {},
   "outputs": [],
   "source": [
    "# save DataFrame of occurrence records to csv\n",
    "mountaineer.save(df, 'abajo_plantae.csv')"
   ]
  },
  {
   "cell_type": "code",
   "execution_count": null,
   "id": "unusual-elephant",
   "metadata": {},
   "outputs": [],
   "source": [
    "# plot occurrence records within Region\n",
    "abajo.plot_with_mpl(df, region='Abajo Peak')"
   ]
  },
  {
   "cell_type": "markdown",
   "id": "developmental-situation",
   "metadata": {},
   "source": [
    "# Map with folium"
   ]
  },
  {
   "cell_type": "code",
   "execution_count": null,
   "id": "orange-miami",
   "metadata": {},
   "outputs": [],
   "source": [
    "# load 'world' dataset\n",
    "world = mountaineer.load('world')"
   ]
  },
  {
   "cell_type": "code",
   "execution_count": null,
   "id": "previous-martin",
   "metadata": {},
   "outputs": [],
   "source": [
    "# init a map instance\n",
    "fmap = folium.Map()\n",
    "\n",
    "# create a layer to hold several features\n",
    "region = folium.FeatureGroup(name=\"World\")\n",
    "\n",
    "# iterate over rows of \n",
    "for idx in world.index:\n",
    "    \n",
    "    # init a GeoJson object from each geometry datum and add to afghan layer\n",
    "    data = folium.GeoJson(\n",
    "        data=world.loc[idx, \"geometry\"],\n",
    "        tooltip=world.loc[idx, \"Name\"],\n",
    "    ).add_to(region)   \n",
    "    \n",
    "# add layer to the map\n",
    "fmap.add_child(region)\n",
    "\n",
    "# set bounds (location and zoom) on map to center on this region\n",
    "fmap.fit_bounds(region.get_bounds())\n",
    "\n",
    "# add layer toggle option\n",
    "fmap.add_child(folium.LayerControl())\n",
    "\n",
    "# show map\n",
    "fmap"
   ]
  },
  {
   "cell_type": "code",
   "execution_count": null,
   "id": "wrong-ethnic",
   "metadata": {},
   "outputs": [],
   "source": [
    "# Mountains in the U.S.\n",
    "\n",
    "# init a map instance\n",
    "fmap = folium.Map(tiles=\"Stamen Terrain\")\n",
    "\n",
    "# create a layer to hold several features\n",
    "region = folium.FeatureGroup(name=\"U.S. Mountains\")\n",
    "\n",
    "# iterate over rows of \n",
    "for idx in world[world.Country == \"United States of America\"].index:\n",
    "    \n",
    "    # init a GeoJson object from each geometry datum and add to afghan layer\n",
    "    data = folium.GeoJson(\n",
    "        data=world.loc[idx, \"geometry\"],\n",
    "        tooltip=world.loc[idx, \"Name\"],\n",
    "    ).add_to(region)   \n",
    "    \n",
    "# add layer to the map\n",
    "fmap.add_child(region)\n",
    "\n",
    "# set bounds (location and zoom) on map to center on this region\n",
    "fmap.fit_bounds(region.get_bounds())\n",
    "\n",
    "# add layer toggle option\n",
    "fmap.add_child(folium.LayerControl())\n",
    "\n",
    "# show map\n",
    "fmap"
   ]
  },
  {
   "cell_type": "code",
   "execution_count": null,
   "id": "southeast-recording",
   "metadata": {},
   "outputs": [],
   "source": [
    "# Mountains in China\n",
    "\n",
    "# init a map instance\n",
    "fmap = folium.Map()\n",
    "\n",
    "# create a layer to hold several features\n",
    "region = folium.FeatureGroup(name=\"China\")\n",
    "\n",
    "# iterate over rows of \n",
    "for idx in world[world.Country == \"China\"].index:\n",
    "    \n",
    "    # init a GeoJson object from each geometry datum and add to afghan layer\n",
    "    data = folium.GeoJson(\n",
    "        data=world.loc[idx, \"geometry\"],\n",
    "        tooltip=world.loc[idx, \"Name\"],\n",
    "    ).add_to(region)   \n",
    "    \n",
    "# add layer to the map\n",
    "fmap.add_child(region)\n",
    "\n",
    "# set bounds (location and zoom) on map to center on this region\n",
    "fmap.fit_bounds(region.get_bounds())\n",
    "\n",
    "# add layer toggle option\n",
    "fmap.add_child(folium.LayerControl())\n",
    "\n",
    "# show map\n",
    "fmap"
   ]
  },
  {
   "cell_type": "markdown",
   "id": "divine-calcium",
   "metadata": {},
   "source": [
    "### explicit use of Region class object (rather than creating list of regions with Dataset instance)"
   ]
  },
  {
   "cell_type": "code",
   "execution_count": null,
   "id": "coupled-latex",
   "metadata": {},
   "outputs": [],
   "source": [
    "w.filter_name('Hengduan Shan')"
   ]
  },
  {
   "cell_type": "code",
   "execution_count": null,
   "id": "stuffed-anderson",
   "metadata": {},
   "outputs": [],
   "source": [
    "hengduan = w.regions[236]"
   ]
  },
  {
   "cell_type": "code",
   "execution_count": null,
   "id": "direct-sierra",
   "metadata": {},
   "outputs": [],
   "source": [
    "hengduan = mountaineer.Region(name=\"Hengduan Shan\", polygon=world.geometry[world.Name == \"Hengduan Shan\"])\n",
    "hengduan"
   ]
  },
  {
   "cell_type": "markdown",
   "id": "potential-julian",
   "metadata": {},
   "source": [
    "# Hengduan example"
   ]
  },
  {
   "cell_type": "code",
   "execution_count": null,
   "id": "southwest-today",
   "metadata": {},
   "outputs": [],
   "source": [
    "hengduan = w.regions[236]"
   ]
  },
  {
   "cell_type": "code",
   "execution_count": null,
   "id": "choice-shooting",
   "metadata": {},
   "outputs": [],
   "source": [
    "mountaineer.taxon_info('Pedicularis')"
   ]
  },
  {
   "cell_type": "code",
   "execution_count": null,
   "id": "royal-helmet",
   "metadata": {},
   "outputs": [],
   "source": [
    "h = hengduan.get_all_occurrences(taxonKey=3171670, tol = 0.5)\n",
    "hengduan.polygon"
   ]
  },
  {
   "cell_type": "code",
   "execution_count": null,
   "id": "proved-illinois",
   "metadata": {},
   "outputs": [],
   "source": [
    "df = hengduan.convert_json_to_dataframe(h)\n",
    "df"
   ]
  },
  {
   "cell_type": "code",
   "execution_count": null,
   "id": "respective-comedy",
   "metadata": {},
   "outputs": [],
   "source": [
    "json = df.to_json()\n",
    "json"
   ]
  },
  {
   "cell_type": "code",
   "execution_count": null,
   "id": "capital-medicare",
   "metadata": {},
   "outputs": [],
   "source": [
    "mountaineer.save(df, 'hengduan_pedicularis')"
   ]
  },
  {
   "cell_type": "code",
   "execution_count": null,
   "id": "electoral-spouse",
   "metadata": {},
   "outputs": [],
   "source": [
    "hengduan.plot_with_mpl(df, 'Hengduan Shan')"
   ]
  },
  {
   "cell_type": "markdown",
   "id": "continent-harris",
   "metadata": {},
   "source": [
    "# Geographical vector objects\n",
    "## https://eaton-lab.org/hack-the-planet/tutorials/25.1-folium-vectors.html"
   ]
  },
  {
   "cell_type": "code",
   "execution_count": 1,
   "id": "lonely-campus",
   "metadata": {},
   "outputs": [],
   "source": [
    "import folium\n",
    "import geopandas\n",
    "import shapely\n",
    "import pyproj\n",
    "import geojson"
   ]
  },
  {
   "cell_type": "code",
   "execution_count": 3,
   "id": "victorian-attendance",
   "metadata": {},
   "outputs": [
    {
     "data": {
      "image/svg+xml": [
       "<svg xmlns=\"http://www.w3.org/2000/svg\" xmlns:xlink=\"http://www.w3.org/1999/xlink\" width=\"100.0\" height=\"100.0\" viewBox=\"42.92 -76.08 2.1599999999999966 2.1599999999999966\" preserveAspectRatio=\"xMinYMin meet\"><g transform=\"matrix(1,0,0,-1,0,-150.0)\"><path fill-rule=\"evenodd\" fill=\"#66cc99\" stroke=\"#555555\" stroke-width=\"0.04319999999999993\" opacity=\"0.6\" d=\"M 44.0,-74.0 L 45.0,-75.0 L 45.0,-76.0 L 43.0,-76.0 L 44.0,-74.0 z\" /></g></svg>"
      ],
      "text/plain": [
       "<shapely.geometry.polygon.Polygon at 0x1464c17f0>"
      ]
     },
     "execution_count": 3,
     "metadata": {},
     "output_type": "execute_result"
    }
   ],
   "source": [
    "# create a Point instance\n",
    "shapely.geometry.Point(44.0, -74.5)\n",
    "\n",
    "# create a Polygon instance\n",
    "shapely.geometry.Polygon([\n",
    "    (44.0, -74), (45.0, -75), (45.0, -76), (43.0, -76),\n",
    "])"
   ]
  },
  {
   "cell_type": "code",
   "execution_count": 4,
   "id": "natural-bidder",
   "metadata": {},
   "outputs": [
    {
     "name": "stdout",
     "output_type": "stream",
     "text": [
      "linear unit-less distance: 1.41\n"
     ]
    }
   ],
   "source": [
    "# create two points\n",
    "point1 = shapely.geometry.Point(44.0, -74.5)\n",
    "point2 = shapely.geometry.Point(43.0, -73.5)\n",
    "\n",
    "# get linear distance between points\n",
    "linear_dist = point1.distance(point2)\n",
    "print(f\"linear unit-less distance: {linear_dist:.2f}\")"
   ]
  },
  {
   "cell_type": "code",
   "execution_count": 5,
   "id": "saving-damages",
   "metadata": {},
   "outputs": [
    {
     "name": "stdout",
     "output_type": "stream",
     "text": [
      "WGS84 distance in Kilometers: 115.77\n"
     ]
    }
   ],
   "source": [
    "# get geodetic (great circle) projection object\n",
    "geod = pyproj.Geod(ellps='WGS84')\n",
    "\n",
    "# get results of projecting points to new space\n",
    "angle1, angle2, distance = geod.inv(point1.x, point1.y, point2.x, point2.y)\n",
    "\n",
    "# print results (divide by 1000 to get in units of kms)\n",
    "print(f\"WGS84 distance in Kilometers: {distance / 1000:.2f}\")"
   ]
  }
 ],
 "metadata": {
  "kernelspec": {
   "display_name": "Python 3",
   "language": "python",
   "name": "python3"
  },
  "language_info": {
   "codemirror_mode": {
    "name": "ipython",
    "version": 3
   },
   "file_extension": ".py",
   "mimetype": "text/x-python",
   "name": "python",
   "nbconvert_exporter": "python",
   "pygments_lexer": "ipython3",
   "version": "3.8.5"
  },
  "varInspector": {
   "cols": {
    "lenName": 16,
    "lenType": 16,
    "lenVar": 40
   },
   "kernels_config": {
    "python": {
     "delete_cmd_postfix": "",
     "delete_cmd_prefix": "del ",
     "library": "var_list.py",
     "varRefreshCmd": "print(var_dic_list())"
    },
    "r": {
     "delete_cmd_postfix": ") ",
     "delete_cmd_prefix": "rm(",
     "library": "var_list.r",
     "varRefreshCmd": "cat(var_dic_list()) "
    }
   },
   "types_to_exclude": [
    "module",
    "function",
    "builtin_function_or_method",
    "instance",
    "_Feature"
   ],
   "window_display": false
  }
 },
 "nbformat": 4,
 "nbformat_minor": 5
}
